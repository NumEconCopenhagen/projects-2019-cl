{
 "cells": [
  {
   "cell_type": "markdown",
   "metadata": {},
   "source": [
    "# Assignment "
   ]
  },
  {
   "cell_type": "markdown",
   "metadata": {},
   "source": [
    "**Import relevant packages**"
   ]
  },
  {
   "cell_type": "code",
   "execution_count": 22,
   "metadata": {},
   "outputs": [],
   "source": [
    "import numpy as np\n",
    "import matplotlib.pyplot as plt\n",
    "import pandas as pd\n",
    "import pydst\n",
    "from pandas_datareader import wb\n",
    "import geoplotlib"
   ]
  },
  {
   "cell_type": "code",
   "execution_count": 27,
   "metadata": {},
   "outputs": [],
   "source": [
    "Dst = pydst.Dst(lang='da')"
   ]
  },
  {
   "cell_type": "markdown",
   "metadata": {},
   "source": [
    "Overview of possible datasets"
   ]
  },
  {
   "cell_type": "code",
   "execution_count": 28,
   "metadata": {},
   "outputs": [
    {
     "data": {
      "text/html": [
       "<div>\n",
       "<style scoped>\n",
       "    .dataframe tbody tr th:only-of-type {\n",
       "        vertical-align: middle;\n",
       "    }\n",
       "\n",
       "    .dataframe tbody tr th {\n",
       "        vertical-align: top;\n",
       "    }\n",
       "\n",
       "    .dataframe thead th {\n",
       "        text-align: right;\n",
       "    }\n",
       "</style>\n",
       "<table border=\"1\" class=\"dataframe\">\n",
       "  <thead>\n",
       "    <tr style=\"text-align: right;\">\n",
       "      <th></th>\n",
       "      <th>active</th>\n",
       "      <th>desc</th>\n",
       "      <th>hasSubjects</th>\n",
       "      <th>id</th>\n",
       "    </tr>\n",
       "  </thead>\n",
       "  <tbody>\n",
       "    <tr>\n",
       "      <th>0</th>\n",
       "      <td>True</td>\n",
       "      <td>Befolkning og valg</td>\n",
       "      <td>True</td>\n",
       "      <td>02</td>\n",
       "    </tr>\n",
       "    <tr>\n",
       "      <th>1</th>\n",
       "      <td>True</td>\n",
       "      <td>Levevilkår</td>\n",
       "      <td>True</td>\n",
       "      <td>05</td>\n",
       "    </tr>\n",
       "    <tr>\n",
       "      <th>2</th>\n",
       "      <td>True</td>\n",
       "      <td>Uddannelse og viden</td>\n",
       "      <td>True</td>\n",
       "      <td>03</td>\n",
       "    </tr>\n",
       "    <tr>\n",
       "      <th>3</th>\n",
       "      <td>True</td>\n",
       "      <td>Kultur og kirke</td>\n",
       "      <td>True</td>\n",
       "      <td>18</td>\n",
       "    </tr>\n",
       "    <tr>\n",
       "      <th>4</th>\n",
       "      <td>True</td>\n",
       "      <td>Arbejde, indkomst og formue</td>\n",
       "      <td>True</td>\n",
       "      <td>04</td>\n",
       "    </tr>\n",
       "    <tr>\n",
       "      <th>5</th>\n",
       "      <td>True</td>\n",
       "      <td>Priser og forbrug</td>\n",
       "      <td>True</td>\n",
       "      <td>06</td>\n",
       "    </tr>\n",
       "    <tr>\n",
       "      <th>6</th>\n",
       "      <td>True</td>\n",
       "      <td>Nationalregnskab og offentlige finanser</td>\n",
       "      <td>True</td>\n",
       "      <td>14</td>\n",
       "    </tr>\n",
       "    <tr>\n",
       "      <th>7</th>\n",
       "      <td>True</td>\n",
       "      <td>Penge og kapitalmarked</td>\n",
       "      <td>True</td>\n",
       "      <td>16</td>\n",
       "    </tr>\n",
       "    <tr>\n",
       "      <th>8</th>\n",
       "      <td>True</td>\n",
       "      <td>Udenrigsøkonomi</td>\n",
       "      <td>True</td>\n",
       "      <td>13</td>\n",
       "    </tr>\n",
       "    <tr>\n",
       "      <th>9</th>\n",
       "      <td>True</td>\n",
       "      <td>Erhvervslivet på tværs</td>\n",
       "      <td>True</td>\n",
       "      <td>07</td>\n",
       "    </tr>\n",
       "    <tr>\n",
       "      <th>10</th>\n",
       "      <td>True</td>\n",
       "      <td>Erhvervslivets sektorer</td>\n",
       "      <td>True</td>\n",
       "      <td>11</td>\n",
       "    </tr>\n",
       "    <tr>\n",
       "      <th>11</th>\n",
       "      <td>True</td>\n",
       "      <td>Geografi, miljø og energi</td>\n",
       "      <td>True</td>\n",
       "      <td>01</td>\n",
       "    </tr>\n",
       "    <tr>\n",
       "      <th>12</th>\n",
       "      <td>True</td>\n",
       "      <td>Tværgående</td>\n",
       "      <td>True</td>\n",
       "      <td>19</td>\n",
       "    </tr>\n",
       "  </tbody>\n",
       "</table>\n",
       "</div>"
      ],
      "text/plain": [
       "    active                                     desc  hasSubjects  id\n",
       "0     True                       Befolkning og valg         True  02\n",
       "1     True                               Levevilkår         True  05\n",
       "2     True                      Uddannelse og viden         True  03\n",
       "3     True                          Kultur og kirke         True  18\n",
       "4     True              Arbejde, indkomst og formue         True  04\n",
       "5     True                        Priser og forbrug         True  06\n",
       "6     True  Nationalregnskab og offentlige finanser         True  14\n",
       "7     True                   Penge og kapitalmarked         True  16\n",
       "8     True                          Udenrigsøkonomi         True  13\n",
       "9     True                   Erhvervslivet på tværs         True  07\n",
       "10    True                  Erhvervslivets sektorer         True  11\n",
       "11    True                Geografi, miljø og energi         True  01\n",
       "12    True                               Tværgående         True  19"
      ]
     },
     "execution_count": 28,
     "metadata": {},
     "output_type": "execute_result"
    }
   ],
   "source": [
    "Dst.get_subjects()"
   ]
  },
  {
   "cell_type": "markdown",
   "metadata": {},
   "source": [
    "We choose the category 'Levevilkår' (living conditions)"
   ]
  },
  {
   "cell_type": "code",
   "execution_count": 30,
   "metadata": {},
   "outputs": [
    {
     "data": {
      "text/html": [
       "<div>\n",
       "<style scoped>\n",
       "    .dataframe tbody tr th:only-of-type {\n",
       "        vertical-align: middle;\n",
       "    }\n",
       "\n",
       "    .dataframe tbody tr th {\n",
       "        vertical-align: top;\n",
       "    }\n",
       "\n",
       "    .dataframe thead th {\n",
       "        text-align: right;\n",
       "    }\n",
       "</style>\n",
       "<table border=\"1\" class=\"dataframe\">\n",
       "  <thead>\n",
       "    <tr style=\"text-align: right;\">\n",
       "      <th></th>\n",
       "      <th>active</th>\n",
       "      <th>firstPeriod</th>\n",
       "      <th>id</th>\n",
       "      <th>latestPeriod</th>\n",
       "      <th>text</th>\n",
       "      <th>unit</th>\n",
       "      <th>updated</th>\n",
       "      <th>variables</th>\n",
       "    </tr>\n",
       "  </thead>\n",
       "  <tbody>\n",
       "    <tr>\n",
       "      <th>0</th>\n",
       "      <td>True</td>\n",
       "      <td>2008K1</td>\n",
       "      <td>FOLK1A</td>\n",
       "      <td>2019K1</td>\n",
       "      <td>Folketal den 1. i kvartalet</td>\n",
       "      <td>antal</td>\n",
       "      <td>2019-02-11 08:00:00</td>\n",
       "      <td>[område, køn, alder, civilstand, tid]</td>\n",
       "    </tr>\n",
       "    <tr>\n",
       "      <th>1</th>\n",
       "      <td>True</td>\n",
       "      <td>2008K1</td>\n",
       "      <td>FOLK1B</td>\n",
       "      <td>2019K1</td>\n",
       "      <td>Folketal den 1. i kvartalet</td>\n",
       "      <td>antal</td>\n",
       "      <td>2019-02-11 08:00:00</td>\n",
       "      <td>[område, køn, alder, statsborgerskab, tid]</td>\n",
       "    </tr>\n",
       "    <tr>\n",
       "      <th>2</th>\n",
       "      <td>True</td>\n",
       "      <td>2008K1</td>\n",
       "      <td>FOLK1C</td>\n",
       "      <td>2019K1</td>\n",
       "      <td>Folketal den 1. i kvartalet</td>\n",
       "      <td>antal</td>\n",
       "      <td>2019-02-11 08:00:00</td>\n",
       "      <td>[område, køn, alder, herkomst, oprindelsesland...</td>\n",
       "    </tr>\n",
       "    <tr>\n",
       "      <th>3</th>\n",
       "      <td>True</td>\n",
       "      <td>2008K1</td>\n",
       "      <td>FOLK1D</td>\n",
       "      <td>2019K1</td>\n",
       "      <td>Folketal den 1. i kvartalet</td>\n",
       "      <td>antal</td>\n",
       "      <td>2019-02-11 08:00:00</td>\n",
       "      <td>[område, køn, alder, statsborgerskab, tid]</td>\n",
       "    </tr>\n",
       "    <tr>\n",
       "      <th>4</th>\n",
       "      <td>True</td>\n",
       "      <td>2008K1</td>\n",
       "      <td>FOLK1E</td>\n",
       "      <td>2019K1</td>\n",
       "      <td>Folketal den 1. i kvartalet</td>\n",
       "      <td>antal</td>\n",
       "      <td>2019-02-11 08:00:00</td>\n",
       "      <td>[område, køn, alder, herkomst, tid]</td>\n",
       "    </tr>\n",
       "  </tbody>\n",
       "</table>\n",
       "</div>"
      ],
      "text/plain": [
       "   active firstPeriod      id latestPeriod                         text  \\\n",
       "0    True      2008K1  FOLK1A       2019K1  Folketal den 1. i kvartalet   \n",
       "1    True      2008K1  FOLK1B       2019K1  Folketal den 1. i kvartalet   \n",
       "2    True      2008K1  FOLK1C       2019K1  Folketal den 1. i kvartalet   \n",
       "3    True      2008K1  FOLK1D       2019K1  Folketal den 1. i kvartalet   \n",
       "4    True      2008K1  FOLK1E       2019K1  Folketal den 1. i kvartalet   \n",
       "\n",
       "    unit             updated  \\\n",
       "0  antal 2019-02-11 08:00:00   \n",
       "1  antal 2019-02-11 08:00:00   \n",
       "2  antal 2019-02-11 08:00:00   \n",
       "3  antal 2019-02-11 08:00:00   \n",
       "4  antal 2019-02-11 08:00:00   \n",
       "\n",
       "                                           variables  \n",
       "0              [område, køn, alder, civilstand, tid]  \n",
       "1         [område, køn, alder, statsborgerskab, tid]  \n",
       "2  [område, køn, alder, herkomst, oprindelsesland...  \n",
       "3         [område, køn, alder, statsborgerskab, tid]  \n",
       "4                [område, køn, alder, herkomst, tid]  "
      ]
     },
     "execution_count": 30,
     "metadata": {},
     "output_type": "execute_result"
    }
   ],
   "source": [
    "Dst.get_tables(subjects=['05']).head()"
   ]
  },
  {
   "cell_type": "markdown",
   "metadata": {},
   "source": [
    "Within the category 'living conditions' we choose 'straf11' which contains data on reported criminal offences by region and type since 1st quarter 2007 to 4th quarter 2018. "
   ]
  },
  {
   "cell_type": "code",
   "execution_count": 31,
   "metadata": {},
   "outputs": [
    {
     "data": {
      "text/html": [
       "<div>\n",
       "<style scoped>\n",
       "    .dataframe tbody tr th:only-of-type {\n",
       "        vertical-align: middle;\n",
       "    }\n",
       "\n",
       "    .dataframe tbody tr th {\n",
       "        vertical-align: top;\n",
       "    }\n",
       "\n",
       "    .dataframe thead th {\n",
       "        text-align: right;\n",
       "    }\n",
       "</style>\n",
       "<table border=\"1\" class=\"dataframe\">\n",
       "  <thead>\n",
       "    <tr style=\"text-align: right;\">\n",
       "      <th></th>\n",
       "      <th>OMRÅDE</th>\n",
       "      <th>OVERTRÆD</th>\n",
       "      <th>TID</th>\n",
       "      <th>INDHOLD</th>\n",
       "    </tr>\n",
       "  </thead>\n",
       "  <tbody>\n",
       "    <tr>\n",
       "      <th>0</th>\n",
       "      <td>Hele landet</td>\n",
       "      <td>Overtrædelsens art i alt</td>\n",
       "      <td>2007K1</td>\n",
       "      <td>121167</td>\n",
       "    </tr>\n",
       "  </tbody>\n",
       "</table>\n",
       "</div>"
      ],
      "text/plain": [
       "        OMRÅDE                  OVERTRÆD     TID  INDHOLD\n",
       "0  Hele landet  Overtrædelsens art i alt  2007K1   121167"
      ]
     },
     "execution_count": 31,
     "metadata": {},
     "output_type": "execute_result"
    }
   ],
   "source": [
    "Dst.get_data(table_id = 'straf11')"
   ]
  },
  {
   "cell_type": "markdown",
   "metadata": {},
   "source": [
    "From the table above we note that the dataset contains 121.167 observations on reported criminal offences from the whole country."
   ]
  },
  {
   "cell_type": "code",
   "execution_count": null,
   "metadata": {},
   "outputs": [],
   "source": [
    "crime_api = Dst.get_data(table_id = 'straf11',\n",
    "                         variables={'OMRÅDE':['*'], \n",
    "                                    'OVERTRÆDELSENS ART':['*'], \n",
    "                                    'KVARTAL':['*']})\n"
   ]
  },
  {
   "cell_type": "code",
   "execution_count": null,
   "metadata": {},
   "outputs": [],
   "source": [
    "type(crime_api)"
   ]
  },
  {
   "cell_type": "code",
   "execution_count": 7,
   "metadata": {},
   "outputs": [],
   "source": [
    "Entry_wb = wb.download(indicator='IC.BUS.NREG', country=['SE','DK','NO'], start=2016, end=2016)"
   ]
  },
  {
   "cell_type": "code",
   "execution_count": 16,
   "metadata": {},
   "outputs": [
    {
     "data": {
      "text/html": [
       "<div>\n",
       "<style scoped>\n",
       "    .dataframe tbody tr th:only-of-type {\n",
       "        vertical-align: middle;\n",
       "    }\n",
       "\n",
       "    .dataframe tbody tr th {\n",
       "        vertical-align: top;\n",
       "    }\n",
       "\n",
       "    .dataframe thead th {\n",
       "        text-align: right;\n",
       "    }\n",
       "</style>\n",
       "<table border=\"1\" class=\"dataframe\">\n",
       "  <thead>\n",
       "    <tr style=\"text-align: right;\">\n",
       "      <th></th>\n",
       "      <th>level_0</th>\n",
       "      <th>index</th>\n",
       "      <th>country</th>\n",
       "      <th>year</th>\n",
       "      <th>Number of new entrants</th>\n",
       "    </tr>\n",
       "  </thead>\n",
       "  <tbody>\n",
       "    <tr>\n",
       "      <th>0</th>\n",
       "      <td>0</td>\n",
       "      <td>0</td>\n",
       "      <td>Denmark</td>\n",
       "      <td>2016</td>\n",
       "      <td>36384</td>\n",
       "    </tr>\n",
       "    <tr>\n",
       "      <th>1</th>\n",
       "      <td>1</td>\n",
       "      <td>1</td>\n",
       "      <td>Norway</td>\n",
       "      <td>2016</td>\n",
       "      <td>27920</td>\n",
       "    </tr>\n",
       "    <tr>\n",
       "      <th>2</th>\n",
       "      <td>2</td>\n",
       "      <td>2</td>\n",
       "      <td>Sweden</td>\n",
       "      <td>2016</td>\n",
       "      <td>49960</td>\n",
       "    </tr>\n",
       "  </tbody>\n",
       "</table>\n",
       "</div>"
      ],
      "text/plain": [
       "   level_0  index  country  year  Number of new entrants\n",
       "0        0      0  Denmark  2016                   36384\n",
       "1        1      1   Norway  2016                   27920\n",
       "2        2      2   Sweden  2016                   49960"
      ]
     },
     "execution_count": 16,
     "metadata": {},
     "output_type": "execute_result"
    }
   ],
   "source": [
    "Entry_wb = Entry_wb.rename(columns = {'IC.BUS.NREG':'Number of new entrants'})\n",
    "#Entry_wb = Entry_wb.rename(columns = {'IC.BUS.NREG':'Number of new entrants'})\n",
    "Entry_wb = Entry_wb.reset_index()\n",
    "Entry_wb.head(10)"
   ]
  },
  {
   "cell_type": "code",
   "execution_count": 18,
   "metadata": {},
   "outputs": [
    {
     "name": "stderr",
     "output_type": "stream",
     "text": [
      "Traceback (most recent call last):\n",
      "  File \"C:\\Users\\Lykke Sterll\\Anaconda3\\lib\\site-packages\\pandas\\core\\indexes\\base.py\", line 3078, in get_loc\n",
      "    return self._engine.get_loc(key)\n",
      "  File \"pandas\\_libs\\index.pyx\", line 140, in pandas._libs.index.IndexEngine.get_loc\n",
      "  File \"pandas\\_libs\\index.pyx\", line 162, in pandas._libs.index.IndexEngine.get_loc\n",
      "  File \"pandas\\_libs\\hashtable_class_helper.pxi\", line 1492, in pandas._libs.hashtable.PyObjectHashTable.get_item\n",
      "  File \"pandas\\_libs\\hashtable_class_helper.pxi\", line 1500, in pandas._libs.hashtable.PyObjectHashTable.get_item\n",
      "KeyError: 'lon'\n",
      "\n",
      "During handling of the above exception, another exception occurred:\n",
      "\n",
      "Traceback (most recent call last):\n",
      "  File \"C:\\Users\\Lykke Sterll\\Anaconda3\\lib\\site-packages\\geoplotlib\\__init__.py\", line 32, in _runapp\n",
      "    app.start()\n",
      "  File \"C:\\Users\\Lykke Sterll\\Anaconda3\\lib\\site-packages\\geoplotlib\\core.py\", line 364, in start\n",
      "    self.proj.fit(BoundingBox.from_bboxes([l.bbox() for l in self.geoplotlib_config.layers]),\n",
      "  File \"C:\\Users\\Lykke Sterll\\Anaconda3\\lib\\site-packages\\geoplotlib\\core.py\", line 364, in <listcomp>\n",
      "    self.proj.fit(BoundingBox.from_bboxes([l.bbox() for l in self.geoplotlib_config.layers]),\n",
      "  File \"C:\\Users\\Lykke Sterll\\Anaconda3\\lib\\site-packages\\geoplotlib\\layers.py\", line 159, in bbox\n",
      "    return BoundingBox.from_points(lons=self.data['lon'], lats=self.data['lat'])\n",
      "  File \"C:\\Users\\Lykke Sterll\\Anaconda3\\lib\\site-packages\\pandas\\core\\frame.py\", line 2688, in __getitem__\n",
      "    return self._getitem_column(key)\n",
      "  File \"C:\\Users\\Lykke Sterll\\Anaconda3\\lib\\site-packages\\pandas\\core\\frame.py\", line 2695, in _getitem_column\n",
      "    return self._get_item_cache(key)\n",
      "  File \"C:\\Users\\Lykke Sterll\\Anaconda3\\lib\\site-packages\\pandas\\core\\generic.py\", line 2489, in _get_item_cache\n",
      "    values = self._data.get(item)\n",
      "  File \"C:\\Users\\Lykke Sterll\\Anaconda3\\lib\\site-packages\\pandas\\core\\internals.py\", line 4115, in get\n",
      "    loc = self.items.get_loc(item)\n",
      "  File \"C:\\Users\\Lykke Sterll\\Anaconda3\\lib\\site-packages\\pandas\\core\\indexes\\base.py\", line 3080, in get_loc\n",
      "    return self._engine.get_loc(self._maybe_cast_indexer(key))\n",
      "  File \"pandas\\_libs\\index.pyx\", line 140, in pandas._libs.index.IndexEngine.get_loc\n",
      "  File \"pandas\\_libs\\index.pyx\", line 162, in pandas._libs.index.IndexEngine.get_loc\n",
      "  File \"pandas\\_libs\\hashtable_class_helper.pxi\", line 1492, in pandas._libs.hashtable.PyObjectHashTable.get_item\n",
      "  File \"pandas\\_libs\\hashtable_class_helper.pxi\", line 1500, in pandas._libs.hashtable.PyObjectHashTable.get_item\n",
      "KeyError: 'lon'\n"
     ]
    }
   ],
   "source": [
    "geoplotlib.dot(Entry_wb.loc[:,['country','Number of new entrants']])\n",
    "geoplotlib.show()\n"
   ]
  }
 ],
 "metadata": {
  "kernelspec": {
   "display_name": "Python 3",
   "language": "python",
   "name": "python3"
  },
  "language_info": {
   "codemirror_mode": {
    "name": "ipython",
    "version": 3
   },
   "file_extension": ".py",
   "mimetype": "text/x-python",
   "name": "python",
   "nbconvert_exporter": "python",
   "pygments_lexer": "ipython3",
   "version": "3.7.1"
  }
 },
 "nbformat": 4,
 "nbformat_minor": 2
}
