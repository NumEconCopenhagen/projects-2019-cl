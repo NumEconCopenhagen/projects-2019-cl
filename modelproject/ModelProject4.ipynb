{
 "cells": [
  {
   "cell_type": "markdown",
   "metadata": {},
   "source": [
    "# Model Project \n",
    "***"
   ]
  },
  {
   "cell_type": "markdown",
   "metadata": {},
   "source": [
    "_In this model project we will present a simple Robinson Crusoe production economy. We will solve the model analytically using sympy, evaluate the markets in different parameterizations of price and wage and visualize one solution_ "
   ]
  },
  {
   "cell_type": "markdown",
   "metadata": {},
   "source": [
    "## The theoretical model:\n",
    "Imagine that Crusoe is schizophenic and makes his decisions as a manager and consumer separately. His decsisions are however, guided by market prices - labor wage and consumption price. It is assumed that Crusoe is endowed with a total time endowment of 60 hours per week. \n",
    "\n",
    "\n",
    "<br> **Producer problem:** When Crusoe acts as a manager he seeks to maximize his profit subject to the production function while taking the price and wage as given. \n",
    "<br>\n",
    "\\\\[ \\max_{x,l} px-wl \\\\]\n",
    "\n",
    "subject to\n",
    "\n",
    "\\\\[ x=f(l)=Al^\\beta \\\\]\n",
    "\n",
    "<br> Where p is the market price of the good, w is the wage, x is the good and l is labor. A and $\\beta$ reflect technology and returns to scale, respectively.\n",
    "\n",
    "<br> **Consumer problem:** When acting as a consumer, Crusoe maximizes his utility of the consumption good x and leisure (the latter is defined as whats left of total time endowment when working l hours)\n",
    "<br>\n",
    "As the consumer and owner of the firm, Crusoe will receive profit from \"selling\"  his labor in the producer problem.\n",
    "<br>\n",
    "\\\\[ \\max_{x,l} u(x,(L-l))=x^\\alpha(L-l)^{(1-\\alpha)} \\\\]\n",
    "\n",
    "subject to\n",
    "\n",
    "\\\\[ px=wl+\\pi(w,p) \\\\]\n",
    "\n",
    "<br> When solving the model, we need to derive demand and supply expressions for labor and the consumption good. When equalizing supply and demand in one of the markets and acquiring an equilibrium, it follows from Walras' law that the other market will also reach an equilibrium.\n",
    "\n",
    "<br>\n",
    "Hence, the model is solved by first optimizing in the markets separately, deriving the supply and demand expressions, then equalizing supply and demand across markets and solving for the consumption price and labor wage."
   ]
  },
  {
   "cell_type": "markdown",
   "metadata": {},
   "source": [
    "## The analytical solution:"
   ]
  },
  {
   "cell_type": "markdown",
   "metadata": {},
   "source": [
    "Install packages.  "
   ]
  },
  {
   "cell_type": "code",
   "execution_count": 325,
   "metadata": {},
   "outputs": [],
   "source": [
    "import numpy as np\n",
    "import sympy as sm\n",
    "\n",
    "%matplotlib inline\n",
    "import matplotlib.pyplot as plt"
   ]
  },
  {
   "cell_type": "markdown",
   "metadata": {},
   "source": [
    "In the follwoing, we will primarily analyze the model using sympy. However, due to computational problems when solving the model using sympy with algebraic expressions only (see https://docs.sympy.org/0.7.6/tutorial/solvers.html), we define some of the parameter values as the following:  "
   ]
  },
  {
   "cell_type": "code",
   "execution_count": 310,
   "metadata": {},
   "outputs": [],
   "source": [
    "A = 13.15\n",
    "beta = 0.5\n",
    "alpha = 2/3 \n",
    "L = 60\n",
    "I = 10"
   ]
  },
  {
   "cell_type": "markdown",
   "metadata": {},
   "source": [
    "### Producer problem:\n",
    "The producer problem is quite simple and the easiest way to solve the maximization problem is to substitute the constraint (production function) into the profit function, deriving the reduced form.  "
   ]
  },
  {
   "cell_type": "code",
   "execution_count": 277,
   "metadata": {},
   "outputs": [],
   "source": [
    "# Profit function\n",
    "def prof(x,l):\n",
    "    return p*x-w*l\n",
    "\n",
    "# Production function\n",
    "def prod(l):\n",
    "    return A*l**beta\n",
    "\n",
    "# Reduced form - subsituting production function into profit function\n",
    "def reduced(l):\n",
    "    return prof(prod(l),l)"
   ]
  },
  {
   "cell_type": "markdown",
   "metadata": {},
   "source": [
    "Substituting for x and maximizing w.r.t labor (l):"
   ]
  },
  {
   "cell_type": "code",
   "execution_count": 328,
   "metadata": {},
   "outputs": [
    {
     "name": "stdout",
     "output_type": "stream",
     "text": [
      "Labor demand: lD= [43.230625*p**2/w**2]\n",
      "supply of goods: xS= [43.230625*p/w]\n"
     ]
    }
   ],
   "source": [
    "# Optimization using sympy diff:\n",
    "focProd = sm.diff(reduced(l),l)\n",
    "\n",
    "# Isolating labor and thus, deriving labor demand:\n",
    "laborDemand = sm.solve(focProd,l)\n",
    "\n",
    "# Finding the supply of goods:\n",
    "profSubs = prof(x,laborDemand[0])\n",
    "goodSupply = sm.solve(profSubs,x)\n",
    "\n",
    "# Printing labor demand and goods supply \n",
    "print(\"Labor demand: lD=\", laborDemand)\n",
    "print(\"supply of goods: xS=\", goodSupply)"
   ]
  },
  {
   "cell_type": "markdown",
   "metadata": {},
   "source": [
    "Profit, as a function of w and p, is derived by inserting labor demand and goods supply into the profit function:"
   ]
  },
  {
   "cell_type": "code",
   "execution_count": 261,
   "metadata": {},
   "outputs": [
    {
     "name": "stdout",
     "output_type": "stream",
     "text": [
      "43.230625*p**2.0*(1/w)**1.0\n"
     ]
    }
   ],
   "source": [
    "Profit = (1-beta)*(A*p)**(1/(1-beta))*(beta/w)**(beta/(1-beta))\n",
    "print(Profit)"
   ]
  },
  {
   "cell_type": "markdown",
   "metadata": {},
   "source": [
    "### Consumer problem:\n",
    "The consumer problem is not as simple as the producer problem and we solve this using sympy's version of lagrange."
   ]
  },
  {
   "cell_type": "code",
   "execution_count": 329,
   "metadata": {},
   "outputs": [],
   "source": [
    "# The variables to maximize w.r.t\n",
    "x, l = sm.var('x,l',real=True)\n",
    "\n",
    "# The objective function\n",
    "util = x**alpha*(L-l)**(1-alpha)\n",
    "\n",
    "# Budget constraint\n",
    "bud = p*x-w*l-Profit\n",
    "\n",
    "# Specifying the shadow price\n",
    "lam = sm.symbols('lambda',real = True)\n",
    "\n",
    "# Setting up the Lagragian\n",
    "L = util-lam*bud\n"
   ]
  },
  {
   "cell_type": "code",
   "execution_count": 332,
   "metadata": {},
   "outputs": [
    {
     "data": {
      "image/png": "[encoded data removed]",
      "text/latex": [
       "$$\\left [ - \\lambda p + \\frac{0.666666666666667 \\left(- l + 60\\right)^{0.333333333333333}}{x^{0.333333333333333}}, \\quad \\lambda w - \\frac{0.333333333333333 x^{0.666666666666667}}{\\left(- l + 60\\right)^{0.666666666666667}}, \\quad - l w + p x - 43.230625 p^{2.0} \\left(\\frac{1}{w}\\right)^{1.0}\\right ]$$"
      ],
      "text/plain": [
       "⎡                                                                             \n",
       "⎢                          -0.333333333333333          0.333333333333333      \n",
       "⎢-λ⋅p + 0.666666666666667⋅x                  ⋅(-l + 60)                 , λ⋅w \n",
       "⎣                                                                             \n",
       "\n",
       "                                                                              \n",
       "                     0.666666666666667          -0.666666666666667            \n",
       "- 0.333333333333333⋅x                 ⋅(-l + 60)                  , -l⋅w + p⋅x\n",
       "                                                                              \n",
       "\n",
       "                     1.0⎤\n",
       "              2.0 ⎛1⎞   ⎥\n",
       " - 43.230625⋅p   ⋅⎜─⎟   ⎥\n",
       "                  ⎝w⎠   ⎦"
      ]
     },
     "execution_count": 332,
     "metadata": {},
     "output_type": "execute_result"
    }
   ],
   "source": [
    "# Differentiating w.r.t x and l\n",
    "gradL = [sm.diff(L,c) for c in [x,l]]\n",
    "\n",
    "# The focs and the shadow price\n",
    "KKT_eqs = gradL + [bud]\n",
    "KKT_eqs"
   ]
  },
  {
   "cell_type": "code",
   "execution_count": 333,
   "metadata": {},
   "outputs": [
    {
     "data": {
      "image/png": "[encoded data removed]",
      "text/latex": [
       "$$\\left [ \\left \\{ l : - \\frac{14.4102083333333 p^{2}}{w^{2}} + 40.0, \\quad \\lambda : 0.5291336839894 \\sqrt[3]{\\frac{1}{p^{2} w}}, \\quad x : \\frac{28.8204166666667 p}{w} + \\frac{40.0 w}{p}\\right \\}, \\quad \\left \\{ l : - \\frac{14.4102083333333 p^{2}}{w^{2}} + 40.0, \\quad \\lambda : 0.2645668419947 \\sqrt[3]{\\frac{1}{p^{2} w}} \\left(-1.0 + 1.73205080756888 i\\right), \\quad x : \\frac{28.8204166666667 p}{w} + \\frac{40.0 w}{p}\\right \\}, \\quad \\left \\{ l : - \\frac{14.4102083333333 p^{2}}{w^{2}} + 40.0, \\quad \\lambda : - 0.2645668419947 \\sqrt[3]{\\frac{1}{p^{2} w}} \\left(1.0 + 1.73205080756888 i\\right), \\quad x : \\frac{28.8204166666667 p}{w} + \\frac{40.0 w}{p}\\right \\}\\right ]$$"
      ],
      "text/plain": [
       "⎡⎧                       2                                 ______             \n",
       "⎢⎪     14.4102083333333⋅p                                 ╱  1        28.82041\n",
       "⎢⎨l: - ─────────────────── + 40.0, λ: 0.5291336839894⋅   ╱  ──── , x: ────────\n",
       "⎢⎪               2                                    3 ╱    2                \n",
       "⎣⎩              w                                     ╲╱    p ⋅w              \n",
       "\n",
       "                   ⎫  ⎧                       2                               \n",
       "66666667⋅p   40.0⋅w⎪  ⎪     14.4102083333333⋅p                                \n",
       "────────── + ──────⎬, ⎨l: - ─────────────────── + 40.0, λ: 0.2645668419947⋅   \n",
       "w              p   ⎪  ⎪               2                                    3 ╱\n",
       "                   ⎭  ⎩              w                                     ╲╱ \n",
       "\n",
       "  ______                                                            ⎫  ⎧      \n",
       " ╱  1                                    28.8204166666667⋅p   40.0⋅w⎪  ⎪     1\n",
       "╱  ──── ⋅(-1.0 + 1.73205080756888⋅ⅈ), x: ────────────────── + ──────⎬, ⎨l: - ─\n",
       "    2                                            w              p   ⎪  ⎪      \n",
       "   p ⋅w                                                             ⎭  ⎩      \n",
       "\n",
       "                 2                                  ______                    \n",
       "4.4102083333333⋅p                                  ╱  1                       \n",
       "────────────────── + 40.0, λ: -0.2645668419947⋅   ╱  ──── ⋅(1.0 + 1.7320508075\n",
       "         2                                     3 ╱    2                       \n",
       "        w                                      ╲╱    p ⋅w                     \n",
       "\n",
       "                                       ⎫⎤\n",
       "            28.8204166666667⋅p   40.0⋅w⎪⎥\n",
       "6888⋅ⅈ), x: ────────────────── + ──────⎬⎥\n",
       "                    w              p   ⎪⎥\n",
       "                                       ⎭⎦"
      ]
     },
     "execution_count": 333,
     "metadata": {},
     "output_type": "execute_result"
    }
   ],
   "source": [
    "# Showing the stationary points solving the constrained problem\n",
    "stationary_points = sm.solve(KKT_eqs,[x,l,lam],dict=True)\n",
    "stationary_points"
   ]
  },
  {
   "cell_type": "markdown",
   "metadata": {},
   "source": [
    "We note that all proposed solutions of l and x are the same. The only variation between the three proposed solutions is the shadow price. Hence, we proceed with the solutions of l and x and derive the optimal wage. This is done by equalizing supply and demand of labor, hence, obtaining equilibrium in one market."
   ]
  },
  {
   "cell_type": "code",
   "execution_count": 244,
   "metadata": {},
   "outputs": [
    {
     "name": "stdout",
     "output_type": "stream",
     "text": [
      "Optimal wage depending on price [-1.20042527186549*p, 1.20042527186549*p]\n"
     ]
    }
   ],
   "source": [
    "equalLab = sm.Eq(-14.4102083333333*p**2/w**2+40,43.230625*p**2/w**2)\n",
    "opt_wag = sm.solve(equalLab,w)\n",
    "\n",
    "print(\"Optimal wage depending on price\", opt_wag)"
   ]
  },
  {
   "cell_type": "markdown",
   "metadata": {},
   "source": [
    "Since the price cannot be negative the solution is 1.2*p. This means that any set of prices will imply an approximately 1.2 times higher wage with equilibrium in both markets. In the following, we evaluate the optimal wage expression and labor demand in different values of p and hence, w. "
   ]
  },
  {
   "cell_type": "code",
   "execution_count": 369,
   "metadata": {},
   "outputs": [
    {
     "name": "stdout",
     "output_type": "stream",
     "text": [
      "Optimal wage, when price is 10 and 1, respectively:  [12.00425272  1.20042527]\n",
      "Labor demand evaluated in combination of wages and prices:  [[29.999999999999954], [29.999999999999957]]\n",
      "Labor supply evaluated in combination of wages and prices:  [30.00000000000004, 30.000000000000036]\n",
      "Profit evaluated in combination of prices and wages: [360.12758155964644, 36.01275815596465]\n",
      "Demand and supply of consumption good:  72.02551631192935\n",
      "Utility evaluated in combination of prices and wages: 53.78956164406131\n"
     ]
    }
   ],
   "source": [
    "# We convert the symbolic optimal wage expression a function depending of p\n",
    "_opt_wag = sm.lambdify(p,opt_wag[1])\n",
    "\n",
    "# We evaluate the wage in a price of 10 and 1, respectively. \n",
    "p1_vec = np.array([10,1])\n",
    "wages = _opt_wag(p1_vec)\n",
    "print(\"Optimal wage, when price is 10 and 1, respectively: \",wages)\n",
    "\n",
    "# We evaluate the labor demand in the prices and wages. First making the labor demand \n",
    "# expression a function depending on p and w.\n",
    "_lab_dem = sm.lambdify((p,w),laborDemand)\n",
    "p1_vec = np.array([10,1])\n",
    "\n",
    "# Labor demand evaluated in price and wages.\n",
    "labor_dem1 = [_lab_dem(p1_vec[0],wages[0]), _lab_dem(p1_vec[1],wages[1])]\n",
    "print(\"Labor demand evaluated in combination of wages and prices: \", labor_dem1)\n",
    "\n",
    "# Labor supply from lagrange optimization problem\n",
    "_lab_sup = [-14.4102083333333*p1_vec[0]**2/wages[0]**2+40,-14.4102083333333*p1_vec[1]**2/wages[1]**2+40]\n",
    "print(\"Labor supply evaluated in combination of wages and prices: \", _lab_sup)\n",
    "\n",
    "# Profit in different combination of wages and prices\n",
    "Profit_eval = 43.230625*p1_vec**2.0*(1/wages)**1.0\n",
    "print(\"Profit evaluated in combination of prices and wages:\", [Profit_eval[0], Profit_eval[1]])\n",
    "\n",
    "# Demand of consumption good\n",
    "good_opt = prod(30)\n",
    "print(\"Demand and supply of consumption good: \", good_opt)\n",
    "\n",
    "# Utility in different combination of wages and prices\n",
    "_utility = sm.lambdify((x,l),util)\n",
    "print(\"Utility evaluated in combination of prices and wages:\", _utility(good_opt,30))"
   ]
  },
  {
   "cell_type": "markdown",
   "metadata": {},
   "source": [
    "## Visualization:"
   ]
  },
  {
   "cell_type": "markdown",
   "metadata": {},
   "source": [
    "We now visualize the solution when the price is 1 and the wage is 1.2."
   ]
  },
  {
   "cell_type": "code",
   "execution_count": 324,
   "metadata": {},
   "outputs": [
    {
     "data": {
      "text/plain": [
       "Text(0, 0.5, 'x')"
      ]
     },
     "execution_count": 324,
     "metadata": {},
     "output_type": "execute_result"
    },
    {
     "data": {
      "image/png": "[encoded data removed]",
      "text/plain": [
       "<Figure size 800x400 with 2 Axes>"
      ]
     },
     "metadata": {
      "needs_background": "light"
     },
     "output_type": "display_data"
    }
   ],
   "source": [
    "def prof_ny(x,l,profit):\n",
    "    return 1*x-1.2*l+profit\n",
    "\n",
    "def util_ny(l, profit):\n",
    "    return (profit/((L-l)**(1-alpha)))**(1/alpha)\n",
    "\n",
    "def budget_ny(x,l,profit):\n",
    "    return x-1.2*l+profit\n",
    "\n",
    "fig = plt.figure(figsize=(8,4),dpi=100) \n",
    "\n",
    "labor_vec = np.linspace(0,59,500)\n",
    "goods_vec = np.linspace(0,140,500)\n",
    "\n",
    "ax_left = fig.add_subplot(1,2,1)\n",
    "ax_left.plot(labor_vec, prod(labor_vec))\n",
    "ax_left.plot(labor_vec, prof_ny(goods_vec,labor_vec,0))\n",
    "ax_left.plot(labor_vec, prof_ny(goods_vec,labor_vec,Profit_eval[1]))\n",
    "ax_left.set_title('Price-taking producer')\n",
    "ax_left.set_xlabel('l')\n",
    "ax_left.set_ylabel('x')\n",
    "\n",
    "ax_right = fig.add_subplot(1,2,2)\n",
    "ax_right.plot(labor_vec, util_ny(labor_vec,54))\n",
    "ax_right.plot(labor_vec, budget_ny(goods_vec,labor_vec,Profit_eval[1]))\n",
    "ax_right.set_title('Price-taking consumer')\n",
    "ax_right.set_xlabel('l')\n",
    "ax_right.set_ylabel('x')\n"
   ]
  },
  {
   "cell_type": "markdown",
   "metadata": {},
   "source": [
    "The found solution of p=1 and w=1,2 is represented by the tangency of the isoprofit curve and the production plan in the left panel at the tangency of the budget constraint and indifference curve at the right panel."
   ]
  }
 ],
 "metadata": {
  "kernelspec": {
   "display_name": "Python 3",
   "language": "python",
   "name": "python3"
  },
  "language_info": {
   "codemirror_mode": {
    "name": "ipython",
    "version": 3
   },
   "file_extension": ".py",
   "mimetype": "text/x-python",
   "name": "python",
   "nbconvert_exporter": "python",
   "pygments_lexer": "ipython3",
   "version": "3.7.3"
  }
 },
 "nbformat": 4,
 "nbformat_minor": 2
}
